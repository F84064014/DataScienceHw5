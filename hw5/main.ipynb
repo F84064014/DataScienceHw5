{
 "cells": [
  {
   "cell_type": "code",
   "execution_count": 57,
   "metadata": {},
   "outputs": [],
   "source": [
    "import pandas as pd\n",
    "import numpy as np\n",
    "\n",
    "from joblib import dump, load\n",
    "\n",
    "from sklearn.metrics import precision_score, f1_score, accuracy_score\n",
    "\n",
    "def evaluate(y_test, y_pred):\n",
    "\n",
    "    print('accuracy:', accuracy_score(y_test, y_pred))\n",
    "    print('precision:', precision_score(y_test, y_pred))\n",
    "    print('f1 score:', f1_score(y_test, y_pred))\n",
    "\n",
    "# np.random.seed(332)\n",
    "np.random.seed(566)"
   ]
  },
  {
   "cell_type": "code",
   "execution_count": 2,
   "metadata": {},
   "outputs": [
    {
     "data": {
      "text/html": [
       "<div>\n",
       "<style scoped>\n",
       "    .dataframe tbody tr th:only-of-type {\n",
       "        vertical-align: middle;\n",
       "    }\n",
       "\n",
       "    .dataframe tbody tr th {\n",
       "        vertical-align: top;\n",
       "    }\n",
       "\n",
       "    .dataframe thead th {\n",
       "        text-align: right;\n",
       "    }\n",
       "</style>\n",
       "<table border=\"1\" class=\"dataframe\">\n",
       "  <thead>\n",
       "    <tr style=\"text-align: right;\">\n",
       "      <th></th>\n",
       "      <th>RowNumber</th>\n",
       "      <th>CustomerId</th>\n",
       "      <th>Surname</th>\n",
       "      <th>CreditScore</th>\n",
       "      <th>Geography</th>\n",
       "      <th>Gender</th>\n",
       "      <th>Age</th>\n",
       "      <th>Tenure</th>\n",
       "      <th>Balance</th>\n",
       "      <th>NumOfProducts</th>\n",
       "      <th>HasCrCard</th>\n",
       "      <th>IsActiveMember</th>\n",
       "      <th>EstimatedSalary</th>\n",
       "      <th>Exited</th>\n",
       "    </tr>\n",
       "  </thead>\n",
       "  <tbody>\n",
       "    <tr>\n",
       "      <th>0</th>\n",
       "      <td>551</td>\n",
       "      <td>15806307</td>\n",
       "      <td>Trevisano</td>\n",
       "      <td>720</td>\n",
       "      <td>Spain</td>\n",
       "      <td>Male</td>\n",
       "      <td>38</td>\n",
       "      <td>5</td>\n",
       "      <td>114051.97</td>\n",
       "      <td>2</td>\n",
       "      <td>0</td>\n",
       "      <td>1</td>\n",
       "      <td>107577.29</td>\n",
       "      <td>0</td>\n",
       "    </tr>\n",
       "    <tr>\n",
       "      <th>1</th>\n",
       "      <td>6897</td>\n",
       "      <td>15709621</td>\n",
       "      <td>Martin</td>\n",
       "      <td>682</td>\n",
       "      <td>France</td>\n",
       "      <td>Female</td>\n",
       "      <td>54</td>\n",
       "      <td>4</td>\n",
       "      <td>62397.41</td>\n",
       "      <td>1</td>\n",
       "      <td>1</td>\n",
       "      <td>0</td>\n",
       "      <td>113088.60</td>\n",
       "      <td>1</td>\n",
       "    </tr>\n",
       "    <tr>\n",
       "      <th>2</th>\n",
       "      <td>4588</td>\n",
       "      <td>15619340</td>\n",
       "      <td>Palmer</td>\n",
       "      <td>672</td>\n",
       "      <td>France</td>\n",
       "      <td>Female</td>\n",
       "      <td>31</td>\n",
       "      <td>5</td>\n",
       "      <td>119903.67</td>\n",
       "      <td>1</td>\n",
       "      <td>1</td>\n",
       "      <td>1</td>\n",
       "      <td>132925.17</td>\n",
       "      <td>0</td>\n",
       "    </tr>\n",
       "    <tr>\n",
       "      <th>3</th>\n",
       "      <td>291</td>\n",
       "      <td>15620746</td>\n",
       "      <td>Napolitani</td>\n",
       "      <td>592</td>\n",
       "      <td>Spain</td>\n",
       "      <td>Female</td>\n",
       "      <td>40</td>\n",
       "      <td>4</td>\n",
       "      <td>104257.86</td>\n",
       "      <td>1</td>\n",
       "      <td>1</td>\n",
       "      <td>0</td>\n",
       "      <td>110857.33</td>\n",
       "      <td>0</td>\n",
       "    </tr>\n",
       "    <tr>\n",
       "      <th>4</th>\n",
       "      <td>1673</td>\n",
       "      <td>15646372</td>\n",
       "      <td>Yao</td>\n",
       "      <td>753</td>\n",
       "      <td>Spain</td>\n",
       "      <td>Male</td>\n",
       "      <td>42</td>\n",
       "      <td>5</td>\n",
       "      <td>120387.73</td>\n",
       "      <td>1</td>\n",
       "      <td>0</td>\n",
       "      <td>1</td>\n",
       "      <td>126378.57</td>\n",
       "      <td>0</td>\n",
       "    </tr>\n",
       "  </tbody>\n",
       "</table>\n",
       "</div>"
      ],
      "text/plain": [
       "   RowNumber  CustomerId     Surname  CreditScore Geography  Gender  Age  \\\n",
       "0        551    15806307   Trevisano          720     Spain    Male   38   \n",
       "1       6897    15709621      Martin          682    France  Female   54   \n",
       "2       4588    15619340      Palmer          672    France  Female   31   \n",
       "3        291    15620746  Napolitani          592     Spain  Female   40   \n",
       "4       1673    15646372         Yao          753     Spain    Male   42   \n",
       "\n",
       "   Tenure    Balance  NumOfProducts  HasCrCard  IsActiveMember  \\\n",
       "0       5  114051.97              2          0               1   \n",
       "1       4   62397.41              1          1               0   \n",
       "2       5  119903.67              1          1               1   \n",
       "3       4  104257.86              1          1               0   \n",
       "4       5  120387.73              1          0               1   \n",
       "\n",
       "   EstimatedSalary  Exited  \n",
       "0        107577.29       0  \n",
       "1        113088.60       1  \n",
       "2        132925.17       0  \n",
       "3        110857.33       0  \n",
       "4        126378.57       0  "
      ]
     },
     "execution_count": 2,
     "metadata": {},
     "output_type": "execute_result"
    }
   ],
   "source": [
    "df = pd.read_csv(r'churn_prediction_data\\churn_prediction_data\\train.csv')\n",
    "df.head()"
   ]
  },
  {
   "cell_type": "code",
   "execution_count": 3,
   "metadata": {},
   "outputs": [
    {
     "data": {
      "text/html": [
       "<div>\n",
       "<style scoped>\n",
       "    .dataframe tbody tr th:only-of-type {\n",
       "        vertical-align: middle;\n",
       "    }\n",
       "\n",
       "    .dataframe tbody tr th {\n",
       "        vertical-align: top;\n",
       "    }\n",
       "\n",
       "    .dataframe thead th {\n",
       "        text-align: right;\n",
       "    }\n",
       "</style>\n",
       "<table border=\"1\" class=\"dataframe\">\n",
       "  <thead>\n",
       "    <tr style=\"text-align: right;\">\n",
       "      <th>Tenure</th>\n",
       "      <th>2</th>\n",
       "      <th>3</th>\n",
       "      <th>4</th>\n",
       "      <th>5</th>\n",
       "      <th>6</th>\n",
       "      <th>7</th>\n",
       "    </tr>\n",
       "    <tr>\n",
       "      <th>Gender</th>\n",
       "      <th></th>\n",
       "      <th></th>\n",
       "      <th></th>\n",
       "      <th></th>\n",
       "      <th></th>\n",
       "      <th></th>\n",
       "    </tr>\n",
       "  </thead>\n",
       "  <tbody>\n",
       "    <tr>\n",
       "      <th>Female</th>\n",
       "      <td>167</td>\n",
       "      <td>760</td>\n",
       "      <td>737</td>\n",
       "      <td>1078</td>\n",
       "      <td>694</td>\n",
       "      <td>193</td>\n",
       "    </tr>\n",
       "    <tr>\n",
       "      <th>Male</th>\n",
       "      <td>172</td>\n",
       "      <td>888</td>\n",
       "      <td>848</td>\n",
       "      <td>1308</td>\n",
       "      <td>953</td>\n",
       "      <td>202</td>\n",
       "    </tr>\n",
       "  </tbody>\n",
       "</table>\n",
       "</div>"
      ],
      "text/plain": [
       "Tenure    2    3    4     5    6    7\n",
       "Gender                               \n",
       "Female  167  760  737  1078  694  193\n",
       "Male    172  888  848  1308  953  202"
      ]
     },
     "execution_count": 3,
     "metadata": {},
     "output_type": "execute_result"
    }
   ],
   "source": [
    "from matplotlib import pyplot as plt\n",
    "\n",
    "# plt.plot(df[df.Exited == 0].Gender, df[df.Exited == 0].Tenure, 'g.')\n",
    "# plt.plot(df[df.Exited == 1].Gender, df[df.Exited == 1].Tenure, 'r.')\n",
    "\n",
    "pd.crosstab(df.Gender, df.Tenure)"
   ]
  },
  {
   "cell_type": "code",
   "execution_count": 4,
   "metadata": {},
   "outputs": [],
   "source": [
    "from sklearn.preprocessing import LabelEncoder\n",
    "\n",
    "drop_feature_names = ['CustomerId', 'RowNumber', 'Surname']\n",
    "df = df.drop(drop_feature_names, axis=1)\n",
    "\n",
    "geo_le = LabelEncoder()\n",
    "gen_le = LabelEncoder()\n",
    "df['Geography'] = geo_le.fit_transform(df['Geography'])\n",
    "df['Gender'] = gen_le.fit_transform(df['Gender'])\n"
   ]
  },
  {
   "cell_type": "code",
   "execution_count": 169,
   "metadata": {},
   "outputs": [
    {
     "name": "stdout",
     "output_type": "stream",
     "text": [
      "y_train ratio 0.20402777777777778\n",
      "y_test ration 0.20375\n"
     ]
    }
   ],
   "source": [
    "from sklearn.model_selection import train_test_split\n",
    "\n",
    "X, y = df.iloc[:, :-1], df.iloc[:, -1]\n",
    "\n",
    "# stratified split on lable\n",
    "X_train, X_test, y_train, y_test = train_test_split(\n",
    "    X, y, test_size=0.1, random_state=42, stratify=y\n",
    ")\n",
    "\n",
    "print(f'y_train ratio {y_train.mean()}')\n",
    "print(f'y_test ration {y_test.mean()}')"
   ]
  },
  {
   "cell_type": "code",
   "execution_count": null,
   "metadata": {},
   "outputs": [],
   "source": [
    "# Load upload file\n",
    "df_upload = pd.read_csv(r'churn_prediction_data\\churn_prediction_data\\test.csv')\n",
    "\n",
    "rownum = df_upload['RowNumber']\n",
    "df_upload = df_upload.drop(drop_feature_names, axis=1)\n",
    "df_upload['Geography'] = geo_le.transform(df_upload['Geography'])\n",
    "df_upload['Gender'] = gen_le.transform(df_upload['Gender'])"
   ]
  },
  {
   "cell_type": "code",
   "execution_count": 177,
   "metadata": {},
   "outputs": [
    {
     "name": "stdout",
     "output_type": "stream",
     "text": [
      "accuracy: 0.84375\n",
      "precision: 0.9318181818181818\n",
      "f1 score: 0.3961352657004831\n"
     ]
    }
   ],
   "source": [
    "from sklearn.ensemble import RandomForestClassifier\n",
    "from xgboost import XGBClassifier\n",
    "from lightgbm import LGBMClassifier\n",
    "from sklearn.neighbors import KNeighborsClassifier\n",
    "from sklearn.svm import SVC\n",
    "\n",
    "# select model\n",
    "# clf = RandomForestClassifier(n_estimators = 350, class_weight={0:0.85, 1:0.15}, n_jobs=-1)\n",
    "# clf = XGBClassifier()\n",
    "clf = LGBMClassifier(max_bin=370, num_leaves=50, learning_rate=0.018, class_weight={0:0.85, 1:0.15}, random_state=6417)\n",
    "# clf = KNeighborsClassifier(n_neighbors=10)\n",
    "# clf = SVC()\n",
    "\n",
    "# train and get result\n",
    "clf.fit(X_train, y_train)\n",
    "\n",
    "# show accuracy\n",
    "y_pred = clf.predict(X_test)\n",
    "\n",
    "# dump(clf, './models/stratified_lgbm.joblib')\n",
    "# np.save('./outputs/stratified_lgbm.npy', clf.predict_proba(df_upload))\n",
    "\n",
    "evaluate(y_test, y_pred)"
   ]
  },
  {
   "cell_type": "code",
   "execution_count": 151,
   "metadata": {},
   "outputs": [],
   "source": [
    "def trans(df):\n",
    "    df['BdP'] = df.Balance / df.NumOfProducts\n",
    "\n",
    "trans(X_train)\n",
    "trans(X_test)"
   ]
  },
  {
   "cell_type": "code",
   "execution_count": 178,
   "metadata": {},
   "outputs": [
    {
     "data": {
      "text/html": [
       "<div>\n",
       "<style scoped>\n",
       "    .dataframe tbody tr th:only-of-type {\n",
       "        vertical-align: middle;\n",
       "    }\n",
       "\n",
       "    .dataframe tbody tr th {\n",
       "        vertical-align: top;\n",
       "    }\n",
       "\n",
       "    .dataframe thead th {\n",
       "        text-align: right;\n",
       "    }\n",
       "</style>\n",
       "<table border=\"1\" class=\"dataframe\">\n",
       "  <thead>\n",
       "    <tr style=\"text-align: right;\">\n",
       "      <th>pred</th>\n",
       "      <th>0</th>\n",
       "      <th>1</th>\n",
       "    </tr>\n",
       "    <tr>\n",
       "      <th>label</th>\n",
       "      <th></th>\n",
       "      <th></th>\n",
       "    </tr>\n",
       "  </thead>\n",
       "  <tbody>\n",
       "    <tr>\n",
       "      <th>0</th>\n",
       "      <td>634</td>\n",
       "      <td>3</td>\n",
       "    </tr>\n",
       "    <tr>\n",
       "      <th>1</th>\n",
       "      <td>122</td>\n",
       "      <td>41</td>\n",
       "    </tr>\n",
       "  </tbody>\n",
       "</table>\n",
       "</div>"
      ],
      "text/plain": [
       "pred     0   1\n",
       "label         \n",
       "0      634   3\n",
       "1      122  41"
      ]
     },
     "execution_count": 178,
     "metadata": {},
     "output_type": "execute_result"
    }
   ],
   "source": [
    "pd.crosstab(y_test, y_pred, rownames=['label'], colnames=['pred'])"
   ]
  },
  {
   "cell_type": "code",
   "execution_count": 124,
   "metadata": {},
   "outputs": [],
   "source": [
    "upload_pred = clf.predict(df_upload)\n",
    "pd.concat([rownum, pd.Series(upload_pred, name='Exited')], axis=1).to_csv(r'class_weight_lgbm.csv')"
   ]
  },
  {
   "cell_type": "code",
   "execution_count": 10,
   "metadata": {},
   "outputs": [],
   "source": [
    "# from sklearn.model_selection import GridSearchCV\n",
    "\n",
    "# param_grid = [\n",
    "#   {'n_estimators': [100, 200, 300, 400, 500], 'criterion': ['gini', 'entropy']},\n",
    "#  ]\n",
    "\n",
    "# clf = GridSearchCV(RandomForestClassifier(), param_grid)\n",
    "# clf.fit(X_train, y_train)\n",
    "# sorted(clf.cv_results_.keys())"
   ]
  },
  {
   "cell_type": "code",
   "execution_count": 11,
   "metadata": {},
   "outputs": [
    {
     "name": "stderr",
     "output_type": "stream",
     "text": [
      "C:\\Users\\user\\AppData\\Local\\Programs\\Python\\Python39\\lib\\site-packages\\sklearn\\base.py:441: UserWarning: X does not have valid feature names, but KNeighborsClassifier was fitted with feature names\n",
      "  warnings.warn(\n"
     ]
    },
    {
     "data": {
      "text/plain": [
       "0.7878787878787878"
      ]
     },
     "execution_count": 11,
     "metadata": {},
     "output_type": "execute_result"
    }
   ],
   "source": [
    "(clf.predict(X_test) == y_test).mean()"
   ]
  },
  {
   "cell_type": "markdown",
   "metadata": {},
   "source": [
    "# StratifiedKFold"
   ]
  },
  {
   "cell_type": "code",
   "execution_count": 12,
   "metadata": {},
   "outputs": [
    {
     "name": "stdout",
     "output_type": "stream",
     "text": [
      "0.8672665916760405\n",
      "0.8590176227971503\n",
      "0.8555888972243061\n"
     ]
    }
   ],
   "source": [
    "from sklearn.model_selection import StratifiedKFold\n",
    "\n",
    "skf = StratifiedKFold(n_splits=3)\n",
    "\n",
    "clfs = []\n",
    "\n",
    "for clf_type in range(2,3):\n",
    "\n",
    "    for train_index, test_index in skf.split(X, y):\n",
    "\n",
    "        X_train, X_test = X.iloc[train_index, :], X.iloc[test_index, :]\n",
    "        y_train, y_test = y.iloc[train_index], y.iloc[test_index]\n",
    "\n",
    "        if clf_type == 0:\n",
    "            clf = RandomForestClassifier(n_estimators = 500)\n",
    "        elif clf_type == 1:\n",
    "            clf = XGBClassifier(n_estimators = 300)\n",
    "        else:\n",
    "           clf = LGBMClassifier(max_bin=500, num_leaves=40, learning_rate=0.05)\n",
    "\n",
    "        clf.fit(X_train, y_train)\n",
    "        print((clf.predict(X_test) == y_test).mean())\n",
    "\n",
    "        clfs.append(clf)"
   ]
  },
  {
   "cell_type": "code",
   "execution_count": 13,
   "metadata": {},
   "outputs": [
    {
     "data": {
      "text/html": [
       "<div>\n",
       "<style scoped>\n",
       "    .dataframe tbody tr th:only-of-type {\n",
       "        vertical-align: middle;\n",
       "    }\n",
       "\n",
       "    .dataframe tbody tr th {\n",
       "        vertical-align: top;\n",
       "    }\n",
       "\n",
       "    .dataframe thead th {\n",
       "        text-align: right;\n",
       "    }\n",
       "</style>\n",
       "<table border=\"1\" class=\"dataframe\">\n",
       "  <thead>\n",
       "    <tr style=\"text-align: right;\">\n",
       "      <th>Exited</th>\n",
       "      <th>0</th>\n",
       "      <th>1</th>\n",
       "    </tr>\n",
       "    <tr>\n",
       "      <th>row_0</th>\n",
       "      <th></th>\n",
       "      <th></th>\n",
       "    </tr>\n",
       "  </thead>\n",
       "  <tbody>\n",
       "    <tr>\n",
       "      <th>0</th>\n",
       "      <td>2034</td>\n",
       "      <td>297</td>\n",
       "    </tr>\n",
       "    <tr>\n",
       "      <th>1</th>\n",
       "      <td>88</td>\n",
       "      <td>247</td>\n",
       "    </tr>\n",
       "  </tbody>\n",
       "</table>\n",
       "</div>"
      ],
      "text/plain": [
       "Exited     0    1\n",
       "row_0            \n",
       "0       2034  297\n",
       "1         88  247"
      ]
     },
     "execution_count": 13,
     "metadata": {},
     "output_type": "execute_result"
    }
   ],
   "source": [
    "pd.crosstab(clf.predict(X_test), y_test)"
   ]
  },
  {
   "cell_type": "code",
   "execution_count": 14,
   "metadata": {},
   "outputs": [],
   "source": [
    "from functools import reduce\n",
    "\n",
    "upload_prob = reduce(lambda x, y: x+y, [clf.predict_proba(df_upload) for clf in clfs])\n",
    "upload_pred = np.argmax(upload_prob, axis=1)\n",
    "pd.concat([rownum, pd.Series(upload_pred, name='Exited')], axis=1).to_csv(r'output.csv')"
   ]
  },
  {
   "cell_type": "markdown",
   "metadata": {},
   "source": [
    "# Oversampling"
   ]
  },
  {
   "cell_type": "code",
   "execution_count": 89,
   "metadata": {},
   "outputs": [
    {
     "name": "stderr",
     "output_type": "stream",
     "text": [
      "<ipython-input-89-a9453e1b4332>:5: UserWarning: Boolean Series key will be reindexed to match DataFrame index.\n",
      "  overX, overy = np.r_[np.array(X_train)[sample_minor], X_train[y==0]], np.r_[np.ones(len(sample_minor)), np.zeros((y_train==0).sum())]\n"
     ]
    }
   ],
   "source": [
    "minor_idxs = np.where(y_train==1)[0]\n",
    "n = (y_train==0).sum()\n",
    "sample_minor = np.random.choice(minor_idxs, n, replace=True)\n",
    "\n",
    "overX, overy = np.r_[np.array(X_train)[sample_minor], X_train[y==0]], np.r_[np.ones(len(sample_minor)), np.zeros((y_train==0).sum())]"
   ]
  },
  {
   "cell_type": "code",
   "execution_count": 96,
   "metadata": {},
   "outputs": [
    {
     "name": "stdout",
     "output_type": "stream",
     "text": [
      "accuracy: 0.8458364591147787\n",
      "precision: 0.7138263665594855\n",
      "f1 score: 0.519298245614035\n"
     ]
    }
   ],
   "source": [
    "# clf = RandomForestClassifier()\n",
    "clf = LGBMClassifier(max_bin=550, num_leaves=75, learning_rate=0.03, class_weight={0:0.8, 1:0.2})\n",
    "clf.fit(overX, overy)\n",
    "\n",
    "y_pred = clf.predict(np.array(X_test))\n",
    "\n",
    "# dump(clf, './models/over_rfc.joblib')\n",
    "# np.save('./outputs/over_rfc.npy', clf.predict_proba(df_upload))\n",
    "\n",
    "# dump(clf, './models/over_lgbm2.joblib')\n",
    "# np.save('./outputs/over_lgbm2.npy', clf.predict_proba(df_upload))\n",
    "\n",
    "evaluate(y_test, y_pred)"
   ]
  },
  {
   "cell_type": "code",
   "execution_count": 17,
   "metadata": {},
   "outputs": [],
   "source": [
    "upload_pred = clf.predict(np.array(df_upload))\n",
    "pd.concat([rownum, pd.Series(upload_pred, name='Exited')], axis=1).to_csv(r'output.csv')"
   ]
  },
  {
   "cell_type": "markdown",
   "metadata": {},
   "source": [
    "# Feature Combination"
   ]
  },
  {
   "cell_type": "code",
   "execution_count": 18,
   "metadata": {},
   "outputs": [
    {
     "data": {
      "text/html": [
       "<div>\n",
       "<style scoped>\n",
       "    .dataframe tbody tr th:only-of-type {\n",
       "        vertical-align: middle;\n",
       "    }\n",
       "\n",
       "    .dataframe tbody tr th {\n",
       "        vertical-align: top;\n",
       "    }\n",
       "\n",
       "    .dataframe thead th {\n",
       "        text-align: right;\n",
       "    }\n",
       "</style>\n",
       "<table border=\"1\" class=\"dataframe\">\n",
       "  <thead>\n",
       "    <tr style=\"text-align: right;\">\n",
       "      <th></th>\n",
       "      <th>CreditScore</th>\n",
       "      <th>Geography</th>\n",
       "      <th>Gender</th>\n",
       "      <th>Age</th>\n",
       "      <th>Tenure</th>\n",
       "      <th>Balance</th>\n",
       "      <th>NumOfProducts</th>\n",
       "      <th>HasCrCard</th>\n",
       "      <th>IsActiveMember</th>\n",
       "      <th>EstimatedSalary</th>\n",
       "      <th>Exited</th>\n",
       "    </tr>\n",
       "  </thead>\n",
       "  <tbody>\n",
       "    <tr>\n",
       "      <th>0</th>\n",
       "      <td>720</td>\n",
       "      <td>2</td>\n",
       "      <td>1</td>\n",
       "      <td>38</td>\n",
       "      <td>5</td>\n",
       "      <td>114051.97</td>\n",
       "      <td>2</td>\n",
       "      <td>0</td>\n",
       "      <td>1</td>\n",
       "      <td>107577.29</td>\n",
       "      <td>0</td>\n",
       "    </tr>\n",
       "    <tr>\n",
       "      <th>1</th>\n",
       "      <td>682</td>\n",
       "      <td>0</td>\n",
       "      <td>0</td>\n",
       "      <td>54</td>\n",
       "      <td>4</td>\n",
       "      <td>62397.41</td>\n",
       "      <td>1</td>\n",
       "      <td>1</td>\n",
       "      <td>0</td>\n",
       "      <td>113088.60</td>\n",
       "      <td>1</td>\n",
       "    </tr>\n",
       "    <tr>\n",
       "      <th>2</th>\n",
       "      <td>672</td>\n",
       "      <td>0</td>\n",
       "      <td>0</td>\n",
       "      <td>31</td>\n",
       "      <td>5</td>\n",
       "      <td>119903.67</td>\n",
       "      <td>1</td>\n",
       "      <td>1</td>\n",
       "      <td>1</td>\n",
       "      <td>132925.17</td>\n",
       "      <td>0</td>\n",
       "    </tr>\n",
       "    <tr>\n",
       "      <th>3</th>\n",
       "      <td>592</td>\n",
       "      <td>2</td>\n",
       "      <td>0</td>\n",
       "      <td>40</td>\n",
       "      <td>4</td>\n",
       "      <td>104257.86</td>\n",
       "      <td>1</td>\n",
       "      <td>1</td>\n",
       "      <td>0</td>\n",
       "      <td>110857.33</td>\n",
       "      <td>0</td>\n",
       "    </tr>\n",
       "    <tr>\n",
       "      <th>4</th>\n",
       "      <td>753</td>\n",
       "      <td>2</td>\n",
       "      <td>1</td>\n",
       "      <td>42</td>\n",
       "      <td>5</td>\n",
       "      <td>120387.73</td>\n",
       "      <td>1</td>\n",
       "      <td>0</td>\n",
       "      <td>1</td>\n",
       "      <td>126378.57</td>\n",
       "      <td>0</td>\n",
       "    </tr>\n",
       "    <tr>\n",
       "      <th>...</th>\n",
       "      <td>...</td>\n",
       "      <td>...</td>\n",
       "      <td>...</td>\n",
       "      <td>...</td>\n",
       "      <td>...</td>\n",
       "      <td>...</td>\n",
       "      <td>...</td>\n",
       "      <td>...</td>\n",
       "      <td>...</td>\n",
       "      <td>...</td>\n",
       "      <td>...</td>\n",
       "    </tr>\n",
       "    <tr>\n",
       "      <th>7995</th>\n",
       "      <td>568</td>\n",
       "      <td>0</td>\n",
       "      <td>0</td>\n",
       "      <td>35</td>\n",
       "      <td>6</td>\n",
       "      <td>121079.60</td>\n",
       "      <td>2</td>\n",
       "      <td>1</td>\n",
       "      <td>1</td>\n",
       "      <td>124890.50</td>\n",
       "      <td>1</td>\n",
       "    </tr>\n",
       "    <tr>\n",
       "      <th>7996</th>\n",
       "      <td>602</td>\n",
       "      <td>1</td>\n",
       "      <td>0</td>\n",
       "      <td>45</td>\n",
       "      <td>7</td>\n",
       "      <td>145846.07</td>\n",
       "      <td>1</td>\n",
       "      <td>1</td>\n",
       "      <td>0</td>\n",
       "      <td>99276.02</td>\n",
       "      <td>0</td>\n",
       "    </tr>\n",
       "    <tr>\n",
       "      <th>7997</th>\n",
       "      <td>679</td>\n",
       "      <td>2</td>\n",
       "      <td>0</td>\n",
       "      <td>43</td>\n",
       "      <td>5</td>\n",
       "      <td>132810.01</td>\n",
       "      <td>1</td>\n",
       "      <td>1</td>\n",
       "      <td>0</td>\n",
       "      <td>130780.85</td>\n",
       "      <td>1</td>\n",
       "    </tr>\n",
       "    <tr>\n",
       "      <th>7998</th>\n",
       "      <td>715</td>\n",
       "      <td>0</td>\n",
       "      <td>1</td>\n",
       "      <td>38</td>\n",
       "      <td>4</td>\n",
       "      <td>118729.45</td>\n",
       "      <td>1</td>\n",
       "      <td>0</td>\n",
       "      <td>0</td>\n",
       "      <td>95484.52</td>\n",
       "      <td>0</td>\n",
       "    </tr>\n",
       "    <tr>\n",
       "      <th>7999</th>\n",
       "      <td>600</td>\n",
       "      <td>0</td>\n",
       "      <td>0</td>\n",
       "      <td>42</td>\n",
       "      <td>5</td>\n",
       "      <td>62397.41</td>\n",
       "      <td>1</td>\n",
       "      <td>0</td>\n",
       "      <td>0</td>\n",
       "      <td>66315.00</td>\n",
       "      <td>0</td>\n",
       "    </tr>\n",
       "  </tbody>\n",
       "</table>\n",
       "<p>8000 rows × 11 columns</p>\n",
       "</div>"
      ],
      "text/plain": [
       "      CreditScore  Geography  Gender  Age  Tenure    Balance  NumOfProducts  \\\n",
       "0             720          2       1   38       5  114051.97              2   \n",
       "1             682          0       0   54       4   62397.41              1   \n",
       "2             672          0       0   31       5  119903.67              1   \n",
       "3             592          2       0   40       4  104257.86              1   \n",
       "4             753          2       1   42       5  120387.73              1   \n",
       "...           ...        ...     ...  ...     ...        ...            ...   \n",
       "7995          568          0       0   35       6  121079.60              2   \n",
       "7996          602          1       0   45       7  145846.07              1   \n",
       "7997          679          2       0   43       5  132810.01              1   \n",
       "7998          715          0       1   38       4  118729.45              1   \n",
       "7999          600          0       0   42       5   62397.41              1   \n",
       "\n",
       "      HasCrCard  IsActiveMember  EstimatedSalary  Exited  \n",
       "0             0               1        107577.29       0  \n",
       "1             1               0        113088.60       1  \n",
       "2             1               1        132925.17       0  \n",
       "3             1               0        110857.33       0  \n",
       "4             0               1        126378.57       0  \n",
       "...         ...             ...              ...     ...  \n",
       "7995          1               1        124890.50       1  \n",
       "7996          1               0         99276.02       0  \n",
       "7997          1               0        130780.85       1  \n",
       "7998          0               0         95484.52       0  \n",
       "7999          0               0         66315.00       0  \n",
       "\n",
       "[8000 rows x 11 columns]"
      ]
     },
     "execution_count": 18,
     "metadata": {},
     "output_type": "execute_result"
    }
   ],
   "source": [
    "df"
   ]
  },
  {
   "cell_type": "code",
   "execution_count": 103,
   "metadata": {},
   "outputs": [],
   "source": [
    "class Transformer():\n",
    "\n",
    "    def __init__(self):\n",
    "        self.GenderTargetDict = None\n",
    "        self.BalanceParameter = None\n",
    "        self.EstimatedSalaryParameter = None\n",
    "        self.AgeParameter = None\n",
    "        self.CreditScoreParameter = None\n",
    "\n",
    "    def fit_transform(self, df, y):\n",
    "\n",
    "        newdf = df.copy()\n",
    "        # newdf['MemberAndCard'] = (df.IsActiveMember ^ df.HasCrCard)\n",
    "        newdf['BdS'] = (df.Balance / df.EstimatedSalary)\n",
    "    \n",
    "        # normalize\n",
    "        newdf.Balance = (df.Balance - df.Balance.mean()) / df.Balance.std()\n",
    "        self.BalanceParameter = (df.Balance.mean(), df.Balance.std())\n",
    "        newdf.EstimatedSalary = (df.EstimatedSalary - df.EstimatedSalary.mean()) / df.EstimatedSalary.std()\n",
    "        self.EstimatedSalaryParameter = (df.EstimatedSalary.mean(), df.EstimatedSalary.std())\n",
    "        newdf.Age = (df.Age - df.Age.mean()) / df.Age.std()\n",
    "        self.AgeParameter = (df.Age.mean(), df.Age.std())\n",
    "        newdf.CreditScore = (df.CreditScore - df.CreditScore.mean()) / df.CreditScore.std()\n",
    "        self.CreditScoreParameter = (df.CreditScore.mean(), df.CreditScore.std())\n",
    "\n",
    "        # target encoding\n",
    "        target_dict = dict(zip( [_ for _ in df['Gender']], [y[df['Gender'] == _].mean() for _ in df['Gender']] ) )\n",
    "        newdf['TargetGender'] = df['Gender'].apply(lambda x: target_dict[x])\n",
    "        self.GenderTargetDict = target_dict\n",
    "\n",
    "        return newdf\n",
    "\n",
    "\n",
    "    def transform(self, df):\n",
    "\n",
    "        newdf = df.copy()\n",
    "        # newdf['MemberAndCard'] = (df.IsActiveMember ^ df.HasCrCard)\n",
    "        newdf['BdS'] = (df.Balance / df.EstimatedSalary)\n",
    "        newdf.Balance = (df.Balance - self.BalanceParameter[0]) / self.BalanceParameter[1]\n",
    "        newdf.EstimatedSalary = (df.EstimatedSalary - self.EstimatedSalaryParameter[0]) / self.EstimatedSalaryParameter[1]\n",
    "        newdf.Age = (df.Age - df.Age.mean()) / df.Age.std()\n",
    "        \n",
    "        newdf['TargetGender'] = df['Gender'].apply(lambda x: self.GenderTargetDict[x])\n",
    "\n",
    "        return newdf\n"
   ]
  },
  {
   "cell_type": "code",
   "execution_count": 102,
   "metadata": {},
   "outputs": [
    {
     "name": "stdout",
     "output_type": "stream",
     "text": [
      "accuracy: 0.8480870217554388\n",
      "precision: 0.8527918781725888\n",
      "f1 score: 0.45344129554655865\n"
     ]
    }
   ],
   "source": [
    "transformer = Transformer()\n",
    "\n",
    "newX_train = transformer.fit_transform(X_train, y_train)\n",
    "newX_test = transformer.transform(X_test)\n",
    "newdf_upload = transformer.transform(df_upload)\n",
    "\n",
    "clf = LGBMClassifier(max_bin=500, num_leaves=85, learning_rate=0.05, class_weight={0:0.8, 1:0.2})\n",
    "# clf = SVC(C=1000, kernel='linear', probability=True)\n",
    "# clf = SVC(C=1, kernel='rbf', probability=True)\n",
    "clf.fit(newX_train, y_train)\n",
    "\n",
    "y_pred = clf.predict(newX_test)\n",
    "evaluate(y_test, y_pred)\n",
    "\n",
    "upload_pred = clf.predict(newdf_upload)\n",
    "pd.concat([rownum, pd.Series(upload_pred, name='Exited')], axis=1).to_csv(r'output.csv')\n",
    "\n",
    "\n",
    "# dump(clf, './models/featComb_svc_linear4.joblib')\n",
    "# np.save('./outputs/featComb_svc_linear4.npy', clf.predict_proba(np.array(newdf_upload)))\n",
    "\n",
    "# dump(clf, './models/featComb_lgbm2.joblib')\n",
    "# np.save('./outputs/featComb_lgbm2.npy', clf.predict_proba(np.array(newdf_upload)))\n",
    "\n",
    "# dump(clf, './models/featComb_svc_rbf.joblib')\n",
    "# np.save('./outputs/featComb_svc_rbf.npy', clf.predict_proba(np.array(newdf_upload)))\n",
    "\n",
    "# pd.concat([rownum, pd.Series(upload_pred, name='Exited')], axis=1).to_csv(r'svm_output.csv')"
   ]
  },
  {
   "cell_type": "code",
   "execution_count": null,
   "metadata": {},
   "outputs": [],
   "source": [
    "from sklearn.metrics import precision_score, recall_score, f1_score\n",
    "\n",
    "print(precision_score(y_test, y_pred))\n",
    "print(recall_score(y_test, y_pred))\n",
    "print(f1_score(y_test, y_pred))"
   ]
  },
  {
   "cell_type": "markdown",
   "metadata": {},
   "source": [
    "# Dimensional Technique"
   ]
  },
  {
   "cell_type": "code",
   "execution_count": null,
   "metadata": {},
   "outputs": [],
   "source": [
    "from sklearn.decomposition import  PCA\n",
    "\n",
    "pcaX_train = PCA().fit_transform(X_train)\n",
    "pcaX_test = PCA().fit_transform(X_test)\n",
    "pcadf_upload = PCA().fit_transform(df_upload)\n",
    "\n",
    "# clf = LGBMClassifier(max_bin=500, num_leaves=80, learning_rate=0.02)\n",
    "# clf = SVC(kernel='linear')\n",
    "clf = XGBClassifier(eta=0.05, max_depth=10, min_child_weight = 0.8)\n",
    "clf.fit(pcaX_train, y_train)\n",
    "\n",
    "y_pred = clf.predict(pcaX_test)\n",
    "print((y_pred == y_test).mean())\n",
    "\n",
    "upload_pred = clf.predict(np.array(pcadf_upload))\n",
    "pd.concat([rownum, pd.Series(upload_pred, name='Exited')], axis=1).to_csv(r'output.csv')\n",
    "\n",
    "# dump(clf, './models/pca_lgbm.joblib')\n",
    "# np.save('./outputs/pac_lgbm.npy', clf.predict_proba(np.array(pcadf_upload)))\n",
    "\n",
    "# dump(clf, './models/pca_svc_linear.joblib')\n",
    "# np.save('./outputs/pac_svc_linear.npy', clf.predict_proba(np.array(pcadf_upload)))\n",
    "\n",
    "# dump(clf, './models/pca_xgb2.joblib')\n",
    "# np.save('./outputs/pac_xgb2.npy', clf.predict_proba(np.array(pcadf_upload)))"
   ]
  },
  {
   "cell_type": "markdown",
   "metadata": {},
   "source": [
    "# Ensemble"
   ]
  },
  {
   "cell_type": "code",
   "execution_count": 50,
   "metadata": {},
   "outputs": [
    {
     "name": "stdout",
     "output_type": "stream",
     "text": [
      "(2000, 2)\n",
      "(2000, 2)\n",
      "(2000, 2)\n",
      "(2000, 2)\n",
      "(2000, 2)\n",
      "(2000, 2)\n",
      "(2000, 2)\n",
      "(2000, 2)\n",
      "(2000, 2)\n",
      "(2000, 2)\n",
      "(2000, 2)\n",
      "(2000, 2)\n",
      "(2000, 2)\n",
      "(2000, 2)\n",
      "(2000, 2)\n"
     ]
    }
   ],
   "source": [
    "import os\n",
    "\n",
    "emptyArr = np.zeros((2000, 2))\n",
    "\n",
    "for fn in os.listdir('./outputs'):\n",
    "\n",
    "    fp = os.path.join('outputs', fn)\n",
    "    print(np.load(fp).shape)\n",
    "\n",
    "    # if 'svc' in fn:\n",
    "    #     w = 0\n",
    "    # elif 'lgbm' in fn:\n",
    "    #     w = 1.5\n",
    "    # else:\n",
    "        # w = 1\n",
    "\n",
    "    w = 1\n",
    "\n",
    "    emptyArr += w * np.load(fp)\n",
    "\n",
    "emptyArr[:, 1] *= 1.5\n",
    "\n",
    "upload_pred = np.argmax(emptyArr, axis=1)\n",
    "pd.concat([rownum, pd.Series(upload_pred, name='Exited')], axis=1).to_csv(r'ensemble_output.csv')"
   ]
  },
  {
   "cell_type": "code",
   "execution_count": 51,
   "metadata": {},
   "outputs": [
    {
     "data": {
      "text/plain": [
       "1680"
      ]
     },
     "execution_count": 51,
     "metadata": {},
     "output_type": "execute_result"
    }
   ],
   "source": [
    "(upload_pred == 0).sum()"
   ]
  },
  {
   "cell_type": "code",
   "execution_count": 52,
   "metadata": {},
   "outputs": [
    {
     "data": {
      "text/plain": [
       "320"
      ]
     },
     "execution_count": 52,
     "metadata": {},
     "output_type": "execute_result"
    }
   ],
   "source": [
    "(upload_pred==1).sum()"
   ]
  }
 ],
 "metadata": {
  "interpreter": {
   "hash": "247ab06e135bb35fa78c5eff31b2a9a0050dcb5fb773c2631d2a29ac689eeccb"
  },
  "kernelspec": {
   "display_name": "Python 3.9.1 64-bit",
   "language": "python",
   "name": "python3"
  },
  "language_info": {
   "codemirror_mode": {
    "name": "ipython",
    "version": 3
   },
   "file_extension": ".py",
   "mimetype": "text/x-python",
   "name": "python",
   "nbconvert_exporter": "python",
   "pygments_lexer": "ipython3",
   "version": "3.9.1"
  },
  "orig_nbformat": 4
 },
 "nbformat": 4,
 "nbformat_minor": 2
}
